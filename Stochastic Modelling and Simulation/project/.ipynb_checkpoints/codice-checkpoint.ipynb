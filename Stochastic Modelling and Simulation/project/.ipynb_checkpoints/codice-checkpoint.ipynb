{
 "cells": [
  {
   "cell_type": "code",
   "execution_count": 1,
   "id": "8f8634f4",
   "metadata": {},
   "outputs": [],
   "source": [
    "import math\n",
    "import matplotlib.pyplot as plt\n",
    "from scipy.optimize import least_squares\n",
    "from scipy.optimize import root_scalar\n",
    "import os\n",
    "import torch\n",
    "import torch.distributions.constraints as constraints\n",
    "import pyro\n",
    "import numpy as np\n",
    "from pyro.optim import Adam\n",
    "from pyro.infer import SVI, Trace_ELBO\n",
    "import pyro.distributions as dist\n",
    "import pyro.contrib.autoguide as autoguide\n",
    "import pandas\n",
    "import timeit\n",
    "from pyro.infer.mcmc import MCMC, HMC, NUTS\n"
   ]
  },
  {
   "cell_type": "markdown",
   "id": "52546e45",
   "metadata": {},
   "source": [
    "# Data"
   ]
  },
  {
   "cell_type": "code",
   "execution_count": 2,
   "id": "5d56af63",
   "metadata": {},
   "outputs": [
    {
     "data": {
      "image/png": "[encoded data removed]",
      "text/plain": [
       "<Figure size 432x288 with 1 Axes>"
      ]
     },
     "metadata": {
      "needs_background": "light"
     },
     "output_type": "display_data"
    }
   ],
   "source": [
    "data=pandas.read_csv(\"MSFT.csv\")\n",
    "plt.plot(data[\"open\"])\n",
    "data=np.flip(data[\"open\"].to_numpy())[:13500]\n",
    "#plt.plot([i for i in range(len(data))],data)\n",
    "plt.savefig(\"img.png\",dpi=900)\n"
   ]
  },
  {
   "cell_type": "markdown",
   "id": "92e994c2",
   "metadata": {},
   "source": [
    "# Black-Scholes model"
   ]
  },
  {
   "cell_type": "markdown",
   "id": "20be110a",
   "metadata": {},
   "source": [
    "## Euler-Maruyama approximated MLE"
   ]
  },
  {
   "cell_type": "code",
   "execution_count": 3,
   "id": "fa961789",
   "metadata": {},
   "outputs": [],
   "source": [
    "def approxmu(data):\n",
    "    deltat=1/(505)\n",
    "    s=0\n",
    "    for i in range(1,len(data)):\n",
    "        s=s+data[i]/data[i-1]-1\n",
    "    s=s/(len(data)*deltat)\n",
    "    return s"
   ]
  },
  {
   "cell_type": "code",
   "execution_count": 4,
   "id": "306b88f6",
   "metadata": {},
   "outputs": [],
   "source": [
    "def approxsigma(data):\n",
    "    mu=approxmu(data)\n",
    "    deltat=1/(505)\n",
    "    s=0\n",
    "    for i in range(1,len(data)):\n",
    "        s=s+(data[i]/data[i-1]-1-mu*deltat)**2/deltat\n",
    "    s=math.sqrt(s)/(math.sqrt(len(data)))\n",
    "    return s"
   ]
  },
  {
   "cell_type": "code",
   "execution_count": 5,
   "id": "5ac878b1",
   "metadata": {},
   "outputs": [
    {
     "name": "stdout",
     "output_type": "stream",
     "text": [
      "Approx mu is -0.0024025781957533123\n",
      "Approx sigma is 0.02490237861448845\n"
     ]
    }
   ],
   "source": [
    "print(\"Approx mu is\", approxmu(data))\n",
    "print(\"Approx sigma is\", approxsigma(data))"
   ]
  },
  {
   "cell_type": "markdown",
   "id": "c043bbeb",
   "metadata": {},
   "source": [
    "## Exact MLE"
   ]
  },
  {
   "cell_type": "code",
   "execution_count": 6,
   "id": "dd540762",
   "metadata": {},
   "outputs": [],
   "source": [
    "def realk(data):\n",
    "    deltat=1/(505)\n",
    "    return (math.log(data[len(data)-1])-math.log(data[0]))/(len(data)*deltat)"
   ]
  },
  {
   "cell_type": "code",
   "execution_count": 7,
   "id": "dbcf9c3e",
   "metadata": {},
   "outputs": [],
   "source": [
    "def realsigma(data):\n",
    "    k=realk(data)\n",
    "    temp0=0\n",
    "    deltat=1/(505)\n",
    "    for i in range(1,len(data)):\n",
    "        temp0=temp0+(math.log(data[i])-math.log(data[i-1])-k*deltat)**2\n",
    "    s=math.sqrt(temp0)/math.sqrt(len(data)*deltat)\n",
    "    return s"
   ]
  },
  {
   "cell_type": "code",
   "execution_count": 8,
   "id": "3eb804d3",
   "metadata": {},
   "outputs": [],
   "source": [
    "def realmu(data):\n",
    "    return realk(data)+realsigma(data)**2/2\n"
   ]
  },
  {
   "cell_type": "code",
   "execution_count": 9,
   "id": "a5725b1f",
   "metadata": {},
   "outputs": [
    {
     "name": "stdout",
     "output_type": "stream",
     "text": [
      "Approx mu is -0.0024025781957533123\n",
      "Approx sigma is 0.02490237861448845\n",
      "Real mu is -0.002402554985817001\n",
      "Real sigma is 0.02490590039329626\n"
     ]
    }
   ],
   "source": [
    "print(\"Approx mu is\", approxmu(data))\n",
    "print(\"Approx sigma is\", approxsigma(data))\n",
    "print(\"Real mu is\", realmu(data))\n",
    "print(\"Real sigma is\", realsigma(data))"
   ]
  },
  {
   "cell_type": "markdown",
   "id": "2ecde675",
   "metadata": {},
   "source": [
    "# CEV Model"
   ]
  },
  {
   "cell_type": "code",
   "execution_count": 10,
   "id": "09384119",
   "metadata": {},
   "outputs": [],
   "source": [
    "def cevsolution(data):\n",
    "    deltat=1/505\n",
    "    def sigmafunc(mu,gamma):\n",
    "        temp0=0\n",
    "        for i in range(1,len(data)):\n",
    "            temp0=temp0+(data[i]/data[i-1]**gamma-data[i-1]**(1-gamma)*(1+mu*deltat))**2/deltat\n",
    "        return math.sqrt(temp0)/math.sqrt(len(data))\n",
    "    def mufunc(gamma):\n",
    "        temp0=0\n",
    "        temp1=0\n",
    "        for i in range(1,len(data)):\n",
    "            temp0=temp0+(data[i]/(data[i-1]**(2*gamma-1)))-data[i-1]**(2-2*gamma)\n",
    "            temp1=temp1+data[i-1]**(2-2*gamma)\n",
    "        return (temp0/temp1)*(1/deltat)\n",
    "    def gammafunc(mu,sigma,gamma):\n",
    "        temp0=0\n",
    "        temp1=0\n",
    "        for i in range(1,len(data)):\n",
    "            temp0=temp0-math.log(data[i-1])\n",
    "            temp1=temp1+(((1+mu*deltat)*data[i-1]-data[i])**2)*math.log(data[i-1])/(data[i-1]**(2*gamma)*sigma**2*deltat)\n",
    "        return temp0+temp1\n",
    "    def func(x):\n",
    "        mu=mufunc(x)\n",
    "        sigma=sigmafunc(mu,x)\n",
    "        gamma=gammafunc(mu,sigma,x)\n",
    "        return gamma\n",
    "    gamma=root_scalar(func,bracket=[0,20]).root\n",
    "    mu=mufunc(gamma)\n",
    "    sigma=sigmafunc(mu,gamma)\n",
    "    return mu,sigma,gamma\n",
    "    \n",
    "        \n",
    "                         \n",
    "                         "
   ]
  },
  {
   "cell_type": "code",
   "execution_count": 11,
   "id": "65b44619",
   "metadata": {},
   "outputs": [
    {
     "name": "stdout",
     "output_type": "stream",
     "text": [
      "CEV mu is -0.0024547298130310033\n",
      "CEV sigma is 0.03568916672032402\n",
      "CEV gamma is 0.9355761055580047\n"
     ]
    }
   ],
   "source": [
    "mu,sigma,gamma=cevsolution(data)\n",
    "print(\"CEV mu is\", mu)\n",
    "print(\"CEV sigma is\", sigma)\n",
    "print(\"CEV gamma is\", gamma)\n"
   ]
  },
  {
   "cell_type": "markdown",
   "id": "72b4ec39",
   "metadata": {},
   "source": [
    "# Heston model"
   ]
  },
  {
   "cell_type": "code",
   "execution_count": 12,
   "id": "de2376cf",
   "metadata": {},
   "outputs": [],
   "source": [
    "datacpu=torch.tensor(data.copy(),dtype=torch.float64)\n",
    "datacuda=datacpu.to(\"cuda\")\n",
    "\n",
    "def computenu(nu,xi,theta,kappa,deltat,k):\n",
    "    nutemp=nu\n",
    "    for i in range(k):\n",
    "            munu=kappa*(theta-nutemp)*deltat+nutemp\n",
    "            sigmanu=xi*math.sqrt(nutemp)*2*math.sqrt(deltat)\n",
    "            nutemp=dist.Normal(munu,sigmanu).sample()\n",
    "            if nutemp<0:\n",
    "                return computenu(xi,theta,kappa,k/10,10*k)\n",
    "\n",
    "        \n",
    "\n",
    "def heston(datacpu,datacuda):\n",
    "    pyro.set_rng_seed(2022)\n",
    "    use_cuda=True\n",
    "    data=datacpu\n",
    "    device=\"cpu\"\n",
    "    if use_cuda==True:\n",
    "        torch.set_default_tensor_type(\"torch.cuda.FloatTensor\")\n",
    "        data=datacuda\n",
    "        device=\"cuda\"\n",
    "    deltat=1/(505)\n",
    "    def model(data):\n",
    "        xi=pyro.param(\"xi\", torch.tensor(2.,dtype=torch.float64),constraint=constraints.positive).type_as(data)\n",
    "        theta=pyro.param(\"theta\", torch.tensor(10.,dtype=torch.float64)).type_as(data)\n",
    "        #enforces Feller condition\n",
    "        kappa=xi**2/(2*theta)+1\n",
    "        mu=approxmu(data)\n",
    "        s=data[0]\n",
    "        nu=torch.tensor(6.).type_as(data)\n",
    "        for i in pyro.plate(\"observed data\",len(data) ,use_cuda=use_cuda, device=device):\n",
    "            mus=(1+mu*deltat)*s\n",
    "            sigmas=math.sqrt(nu)*s**2*math.sqrt(deltat)\n",
    "            munu=kappa*(theta-nu)*deltat+nu\n",
    "            sigmanu=xi*math.sqrt(nu)*2*math.sqrt(deltat)\n",
    "            s=pyro.sample(\"s_{}\".format(i),dist.Normal(mus,sigmas) ,obs=data[i])\n",
    "            nu=pyro.sample(\"nu_{}\".format(i),dist.Normal(munu,sigmanu))\n",
    "            #### if nu<0 apply the varyng step stochastic algorithm from d'Onifrio et at al.\n",
    "            if nu<0:\n",
    "                nu=computenu(xi,theta,kappa,deltat,1)\n",
    "    \n",
    "    def guide(data):\n",
    "        muguide=pyro.param(\"muguide\", torch.tensor(100.,dtype=torch.float64)).type_as(data)\n",
    "        sigmaguide=pyro.param(\"sigmaguide\", torch.tensor(1.,dtype=torch.float64)).type_as(data)\n",
    "        for i in pyro.plate(\"observed data\",len(data) ,use_cuda=use_cuda, device=device):\n",
    "            pyro.sample(\"nu_{}\".format(i),dist.Normal(muguide,sigmaguide))\n",
    "    adam_params = {\"lr\": 0.0005, \"betas\": (0.90, 0.999)}\n",
    "    optimizer = Adam(adam_params)\n",
    "    svi = SVI(model, guide, optimizer, loss=Trace_ELBO())\n",
    "    n_steps = 5000\n",
    "    tmp=svi.evaluate_loss(data)\n",
    "    losses=[]\n",
    "    batchsize=500\n",
    "    # do gradient steps\n",
    "    for step in range(n_steps):\n",
    "        tmpold=tmp\n",
    "        loss=svi.step(data[((step*batchsize)%len(data)):(step*batchsize)%len(data)+batchsize])\n",
    "        losses.append(loss)\n",
    "        if step % 100 == 0:\n",
    "            print('.', end='')\n",
    "    plt.plot(losses)\n",
    "    xi=pyro.param(\"xi\")\n",
    "    theta=pyro.param(\"theta\")\n",
    "    k=xi**2/(2*theta)+1\n",
    "    print(\"Heston mu is\", mu.item())\n",
    "    print(\"Heston k is\", k.item())\n",
    "    print(\"Heston theta is\", theta.item())\n",
    "    print(\"Heston xi is\", xi.item())                 "
   ]
  },
  {
   "cell_type": "code",
   "execution_count": 13,
   "id": "e8a8445e",
   "metadata": {
    "scrolled": false
   },
   "outputs": [
    {
     "name": "stdout",
     "output_type": "stream",
     "text": [
      "..................................................Heston mu is -0.0024547298130310033\n",
      "Heston k is 3.7845938144669855\n",
      "Heston theta is 12.082636361844605\n",
      "Heston xi is 8.203076797841938\n"
     ]
    },
    {
     "data": {
      "image/png": "[encoded data removed]",
      "text/plain": [
       "<Figure size 432x288 with 1 Axes>"
      ]
     },
     "metadata": {
      "needs_background": "light"
     },
     "output_type": "display_data"
    }
   ],
   "source": [
    "heston(datacpu,datacuda)"
   ]
  },
  {
   "cell_type": "code",
   "execution_count": null,
   "id": "c9871899",
   "metadata": {},
   "outputs": [],
   "source": []
  },
  {
   "cell_type": "code",
   "execution_count": null,
   "id": "70a5dfdd",
   "metadata": {},
   "outputs": [],
   "source": []
  },
  {
   "cell_type": "code",
   "execution_count": null,
   "id": "adc07644",
   "metadata": {},
   "outputs": [],
   "source": []
  }
 ],
 "metadata": {
  "kernelspec": {
   "display_name": "Python 3 (ipykernel)",
   "language": "python",
   "name": "python3"
  },
  "language_info": {
   "codemirror_mode": {
    "name": "ipython",
    "version": 3
   },
   "file_extension": ".py",
   "mimetype": "text/x-python",
   "name": "python",
   "nbconvert_exporter": "python",
   "pygments_lexer": "ipython3",
   "version": "3.10.4"
  }
 },
 "nbformat": 4,
 "nbformat_minor": 5
}
