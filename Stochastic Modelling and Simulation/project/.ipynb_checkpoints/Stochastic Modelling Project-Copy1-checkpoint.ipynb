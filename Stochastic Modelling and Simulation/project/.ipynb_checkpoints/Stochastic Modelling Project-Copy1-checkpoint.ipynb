{
 "cells": [
  {
   "cell_type": "code",
   "execution_count": 1,
   "id": "8f8634f4",
   "metadata": {},
   "outputs": [],
   "source": [
    "import math\n",
    "import matplotlib.pyplot as plt\n",
    "from scipy.optimize import least_squares\n",
    "from scipy.optimize import root_scalar\n",
    "import os\n",
    "import torch\n",
    "import torch.distributions.constraints as constraints\n",
    "import pyro\n",
    "import numpy as np\n",
    "from pyro.optim import Adam\n",
    "from pyro.infer import SVI, Trace_ELBO\n",
    "import pyro.distributions as dist\n",
    "import pyro.contrib.autoguide as autoguide\n",
    "import pandas\n",
    "import timeit\n",
    "from pyro.infer.mcmc import MCMC, HMC, NUTS\n"
   ]
  },
  {
   "cell_type": "code",
   "execution_count": 2,
   "id": "5d56af63",
   "metadata": {},
   "outputs": [
    {
     "data": {
      "image/png": "[encoded data removed]",
      "text/plain": [
       "<Figure size 432x288 with 1 Axes>"
      ]
     },
     "metadata": {
      "needs_background": "light"
     },
     "output_type": "display_data"
    }
   ],
   "source": [
    "data=pandas.read_csv(\"MSFT.csv\")\n",
    "plt.plot(data[\"open\"])\n",
    "data=np.flip(data[\"open\"].to_numpy())[:13500]\n",
    "#plt.plot([i for i in range(len(data))],data)\n",
    "plt.savefig(\"img.png\",dpi=900)\n"
   ]
  },
  {
   "cell_type": "code",
   "execution_count": 3,
   "id": "fa961789",
   "metadata": {},
   "outputs": [],
   "source": [
    "def approxmu(data):\n",
    "    deltat=1/(505)\n",
    "    s=0\n",
    "    for i in range(1,len(data)):\n",
    "        s=s+data[i]/data[i-1]-1\n",
    "    s=s/(len(data)*deltat)\n",
    "    return s"
   ]
  },
  {
   "cell_type": "code",
   "execution_count": 4,
   "id": "306b88f6",
   "metadata": {},
   "outputs": [],
   "source": [
    "def approxsigma(data):\n",
    "    mu=approxmu(data)\n",
    "    deltat=1/(505)\n",
    "    s=0\n",
    "    for i in range(1,len(data)):\n",
    "        s=s+(data[i]/data[i-1]-1-mu*deltat)**2/deltat\n",
    "    s=math.sqrt(s)/(math.sqrt(len(data)))\n",
    "    return s"
   ]
  },
  {
   "cell_type": "code",
   "execution_count": 5,
   "id": "5ac878b1",
   "metadata": {},
   "outputs": [
    {
     "name": "stdout",
     "output_type": "stream",
     "text": [
      "Approx mu is -0.0024025781957533123\n",
      "Approx sigma is 0.02490237861448845\n"
     ]
    }
   ],
   "source": [
    "print(\"Approx mu is\", approxmu(data))\n",
    "print(\"Approx sigma is\", approxsigma(data))"
   ]
  },
  {
   "cell_type": "code",
   "execution_count": 6,
   "id": "dd540762",
   "metadata": {},
   "outputs": [],
   "source": [
    "def realk(data):\n",
    "    deltat=1/(505)\n",
    "    return (math.log(data[len(data)-1])-math.log(data[0]))/(len(data)*deltat)"
   ]
  },
  {
   "cell_type": "code",
   "execution_count": 7,
   "id": "dbcf9c3e",
   "metadata": {},
   "outputs": [],
   "source": [
    "def realsigma(data):\n",
    "    k=realk(data)\n",
    "    temp0=0\n",
    "    deltat=1/(505)\n",
    "    for i in range(1,len(data)):\n",
    "        temp0=temp0+(math.log(data[i])-math.log(data[i-1])-k*deltat)**2\n",
    "    s=math.sqrt(temp0)/math.sqrt(len(data)*deltat)\n",
    "    return s"
   ]
  },
  {
   "cell_type": "code",
   "execution_count": 8,
   "id": "3eb804d3",
   "metadata": {},
   "outputs": [],
   "source": [
    "def realmu(data):\n",
    "    return realk(data)+realsigma(data)**2/2\n"
   ]
  },
  {
   "cell_type": "code",
   "execution_count": 9,
   "id": "a5725b1f",
   "metadata": {},
   "outputs": [
    {
     "name": "stdout",
     "output_type": "stream",
     "text": [
      "Approx mu is -0.0024025781957533123\n",
      "Approx sigma is 0.02490237861448845\n",
      "Real mu is -0.002402554985817001\n",
      "Real sigma is 0.02490590039329626\n"
     ]
    }
   ],
   "source": [
    "print(\"Approx mu is\", approxmu(data))\n",
    "print(\"Approx sigma is\", approxsigma(data))\n",
    "print(\"Real mu is\", realmu(data))\n",
    "print(\"Real sigma is\", realsigma(data))"
   ]
  },
  {
   "cell_type": "code",
   "execution_count": 10,
   "id": "09384119",
   "metadata": {},
   "outputs": [],
   "source": [
    "def cevsolution(data):\n",
    "    deltat=1/505\n",
    "    def sigmafunc(mu,gamma):\n",
    "        temp0=0\n",
    "        for i in range(1,len(data)):\n",
    "            temp0=temp0+(data[i]/data[i-1]**gamma-data[i-1]**(1-gamma)*(1+mu*deltat))**2/deltat\n",
    "        return math.sqrt(temp0)/math.sqrt(len(data))\n",
    "    def mufunc(gamma):\n",
    "        temp0=0\n",
    "        temp1=0\n",
    "        for i in range(1,len(data)):\n",
    "            temp0=temp0+(data[i]/(data[i-1]**(2*gamma-1)))-data[i-1]**(2-2*gamma)\n",
    "            temp1=temp1+data[i-1]**(2-2*gamma)\n",
    "        return (temp0/temp1)*(1/deltat)\n",
    "    def gammafunc(mu,sigma,gamma):\n",
    "        temp0=0\n",
    "        temp1=0\n",
    "        for i in range(1,len(data)):\n",
    "            temp0=temp0-math.log(data[i-1])\n",
    "            temp1=temp1+(((1+mu*deltat)*data[i-1]-data[i])**2)*math.log(data[i-1])/(data[i-1]**(2*gamma)*sigma**2*deltat)\n",
    "        return temp0+temp1\n",
    "    def func(x):\n",
    "        mu=mufunc(x)\n",
    "        sigma=sigmafunc(mu,x)\n",
    "        gamma=gammafunc(mu,sigma,x)\n",
    "        return gamma\n",
    "    gamma=root_scalar(func,bracket=[0,20]).root\n",
    "    mu=mufunc(gamma)\n",
    "    sigma=sigmafunc(mu,gamma)\n",
    "    return mu,sigma,gamma\n",
    "    \n",
    "        \n",
    "                         \n",
    "                         "
   ]
  },
  {
   "cell_type": "code",
   "execution_count": 11,
   "id": "65b44619",
   "metadata": {},
   "outputs": [
    {
     "name": "stdout",
     "output_type": "stream",
     "text": [
      "CEV mu is -0.0024547298130310033\n",
      "CEV sigma is 0.03568916672032402\n",
      "CEV gamma is 0.9355761055580047\n"
     ]
    }
   ],
   "source": [
    "mu,sigma,gamma=cevsolution(data)\n",
    "print(\"CEV mu is\", mu)\n",
    "print(\"CEV sigma is\", sigma)\n",
    "print(\"CEV gamma is\", gamma)\n",
    "data=torch.tensor(data.copy(),dtype=torch.float64)"
   ]
  },
  {
   "cell_type": "code",
   "execution_count": 12,
   "id": "de2376cf",
   "metadata": {},
   "outputs": [],
   "source": [
    "def heston(data):\n",
    "    pyro.set_rng_seed(2022)\n",
    "    data=data\n",
    "    deltat=1/(505)\n",
    "    def model(data):\n",
    "        xi=pyro.sample(\"xi\", dist.Normal(0,10000))\n",
    "        theta=pyro.sample(\"theta\", dist.Normal(0,10000))\n",
    "        #enforces Feller condition\n",
    "        kappa=xi**2/(2*theta)+1\n",
    "        mu=approxmu(data)\n",
    "        s=data[0]\n",
    "        nu=torch.tensor(6.).type_as(data)\n",
    "        for i in pyro.plate(\"observed data\",data.shape[0]):\n",
    "            mus=(1+mu*deltat)*s\n",
    "            sigmas=math.sqrt(nu)*s**2*math.sqrt(deltat)\n",
    "            munu=kappa*(theta-nu)*deltat+nu\n",
    "            sigmanu=xi*math.sqrt(nu)*2*math.sqrt(deltat)\n",
    "            s=pyro.sample(\"s_{}\".format(i),dist.Normal(mus,sigmas) ,obs=data[i])\n",
    "            nu=max(pyro.sample(\"nu_{}\".format(i),dist.Normal(munu,sigmanu)),0.0001)\n",
    "    \n",
    "    nuts=NUTS(model,jit_compile=True)\n",
    "    mcmc=MCMC(nuts,warmup_steps=1000,num_samples=500,num_chains=1)\n",
    "    posterior = mcmc.run(data)\n",
    "    mcmc_samples = mcmc.get_samples(group_by_chain=True)\n",
    "    xi = mcmc_samples[\"theta1\"]\n",
    "    theta2 = mcmc_samples[\"theta2\"]\n",
    "    print(\"Heston mu is\", mu.item())\n",
    "    print(\"Heston k is\", k.item())\n",
    "    print(\"Heston theta is\", theta.item())\n",
    "    print(\"Heston xi is\", xi.item())                 "
   ]
  },
  {
   "cell_type": "code",
   "execution_count": 13,
   "id": "e8a8445e",
   "metadata": {},
   "outputs": [
    {
     "name": "stderr",
     "output_type": "stream",
     "text": [
      "\r",
      "Warmup:   0%|                                            | 0/1500 [00:00, ?it/s]"
     ]
    },
    {
     "ename": "TypeError",
     "evalue": "max() received an invalid combination of arguments - got (Tensor, float), but expected one of:\n * (Tensor input)\n * (Tensor input, Tensor other, *, Tensor out)\n * (Tensor input, int dim, bool keepdim, *, tuple of Tensors out)\n * (Tensor input, name dim, bool keepdim, *, tuple of Tensors out)\n",
     "output_type": "error",
     "traceback": [
      "\u001b[0;31m---------------------------------------------------------------------------\u001b[0m",
      "\u001b[0;31mTypeError\u001b[0m                                 Traceback (most recent call last)",
      "Input \u001b[0;32mIn [13]\u001b[0m, in \u001b[0;36m<cell line: 1>\u001b[0;34m()\u001b[0m\n\u001b[0;32m----> 1\u001b[0m \u001b[43mheston\u001b[49m\u001b[43m(\u001b[49m\u001b[43mdata\u001b[49m\u001b[43m)\u001b[49m\n",
      "Input \u001b[0;32mIn [12]\u001b[0m, in \u001b[0;36mheston\u001b[0;34m(data)\u001b[0m\n\u001b[1;32m     21\u001b[0m nuts\u001b[38;5;241m=\u001b[39mNUTS(model,jit_compile\u001b[38;5;241m=\u001b[39m\u001b[38;5;28;01mTrue\u001b[39;00m)\n\u001b[1;32m     22\u001b[0m mcmc\u001b[38;5;241m=\u001b[39mMCMC(nuts,warmup_steps\u001b[38;5;241m=\u001b[39m\u001b[38;5;241m1000\u001b[39m,num_samples\u001b[38;5;241m=\u001b[39m\u001b[38;5;241m500\u001b[39m,num_chains\u001b[38;5;241m=\u001b[39m\u001b[38;5;241m1\u001b[39m)\n\u001b[0;32m---> 23\u001b[0m posterior \u001b[38;5;241m=\u001b[39m \u001b[43mmcmc\u001b[49m\u001b[38;5;241;43m.\u001b[39;49m\u001b[43mrun\u001b[49m\u001b[43m(\u001b[49m\u001b[43mdata\u001b[49m\u001b[43m)\u001b[49m\n\u001b[1;32m     24\u001b[0m mcmc_samples \u001b[38;5;241m=\u001b[39m mcmc\u001b[38;5;241m.\u001b[39mget_samples(group_by_chain\u001b[38;5;241m=\u001b[39m\u001b[38;5;28;01mTrue\u001b[39;00m)\n\u001b[1;32m     25\u001b[0m xi \u001b[38;5;241m=\u001b[39m mcmc_samples[\u001b[38;5;124m\"\u001b[39m\u001b[38;5;124mtheta1\u001b[39m\u001b[38;5;124m\"\u001b[39m]\n",
      "File \u001b[0;32m~/.conda/envs/progettopml/lib/python3.9/site-packages/pyro/poutine/messenger.py:12\u001b[0m, in \u001b[0;36m_context_wrap\u001b[0;34m(context, fn, *args, **kwargs)\u001b[0m\n\u001b[1;32m     10\u001b[0m \u001b[38;5;28;01mdef\u001b[39;00m \u001b[38;5;21m_context_wrap\u001b[39m(context, fn, \u001b[38;5;241m*\u001b[39margs, \u001b[38;5;241m*\u001b[39m\u001b[38;5;241m*\u001b[39mkwargs):\n\u001b[1;32m     11\u001b[0m     \u001b[38;5;28;01mwith\u001b[39;00m context:\n\u001b[0;32m---> 12\u001b[0m         \u001b[38;5;28;01mreturn\u001b[39;00m \u001b[43mfn\u001b[49m\u001b[43m(\u001b[49m\u001b[38;5;241;43m*\u001b[39;49m\u001b[43margs\u001b[49m\u001b[43m,\u001b[49m\u001b[43m \u001b[49m\u001b[38;5;241;43m*\u001b[39;49m\u001b[38;5;241;43m*\u001b[39;49m\u001b[43mkwargs\u001b[49m\u001b[43m)\u001b[49m\n",
      "File \u001b[0;32m~/.conda/envs/progettopml/lib/python3.9/site-packages/pyro/infer/mcmc/api.py:563\u001b[0m, in \u001b[0;36mMCMC.run\u001b[0;34m(self, *args, **kwargs)\u001b[0m\n\u001b[1;32m    554\u001b[0m \u001b[38;5;28;01mwith\u001b[39;00m optional(\n\u001b[1;32m    555\u001b[0m     pyro\u001b[38;5;241m.\u001b[39mvalidation_enabled(\u001b[38;5;129;01mnot\u001b[39;00m \u001b[38;5;28mself\u001b[39m\u001b[38;5;241m.\u001b[39mdisable_validation),\n\u001b[1;32m    556\u001b[0m     \u001b[38;5;28mself\u001b[39m\u001b[38;5;241m.\u001b[39mdisable_validation \u001b[38;5;129;01mis\u001b[39;00m \u001b[38;5;129;01mnot\u001b[39;00m \u001b[38;5;28;01mNone\u001b[39;00m,\n\u001b[0;32m   (...)\u001b[0m\n\u001b[1;32m    560\u001b[0m     \u001b[38;5;66;03m# This also resolves \"RuntimeError: Cowardly refusing to serialize non-leaf tensor which\u001b[39;00m\n\u001b[1;32m    561\u001b[0m     \u001b[38;5;66;03m# requires_grad\", which happens with `jit_compile` under PyTorch 1.7\u001b[39;00m\n\u001b[1;32m    562\u001b[0m     args \u001b[38;5;241m=\u001b[39m [arg\u001b[38;5;241m.\u001b[39mdetach() \u001b[38;5;28;01mif\u001b[39;00m torch\u001b[38;5;241m.\u001b[39mis_tensor(arg) \u001b[38;5;28;01melse\u001b[39;00m arg \u001b[38;5;28;01mfor\u001b[39;00m arg \u001b[38;5;129;01min\u001b[39;00m args]\n\u001b[0;32m--> 563\u001b[0m     \u001b[38;5;28;01mfor\u001b[39;00m x, chain_id \u001b[38;5;129;01min\u001b[39;00m \u001b[38;5;28mself\u001b[39m\u001b[38;5;241m.\u001b[39msampler\u001b[38;5;241m.\u001b[39mrun(\u001b[38;5;241m*\u001b[39margs, \u001b[38;5;241m*\u001b[39m\u001b[38;5;241m*\u001b[39mkwargs):\n\u001b[1;32m    564\u001b[0m         \u001b[38;5;28;01mif\u001b[39;00m num_samples[chain_id] \u001b[38;5;241m==\u001b[39m \u001b[38;5;241m0\u001b[39m:\n\u001b[1;32m    565\u001b[0m             num_samples[chain_id] \u001b[38;5;241m+\u001b[39m\u001b[38;5;241m=\u001b[39m \u001b[38;5;241m1\u001b[39m\n",
      "File \u001b[0;32m~/.conda/envs/progettopml/lib/python3.9/site-packages/pyro/infer/mcmc/api.py:223\u001b[0m, in \u001b[0;36m_UnarySampler.run\u001b[0;34m(self, *args, **kwargs)\u001b[0m\n\u001b[1;32m    221\u001b[0m logger \u001b[38;5;241m=\u001b[39m initialize_logger(logger, \u001b[38;5;124m\"\u001b[39m\u001b[38;5;124m\"\u001b[39m, progress_bar)\n\u001b[1;32m    222\u001b[0m hook_w_logging \u001b[38;5;241m=\u001b[39m _add_logging_hook(logger, progress_bar, \u001b[38;5;28mself\u001b[39m\u001b[38;5;241m.\u001b[39mhook)\n\u001b[0;32m--> 223\u001b[0m \u001b[38;5;28;01mfor\u001b[39;00m sample \u001b[38;5;129;01min\u001b[39;00m _gen_samples(\n\u001b[1;32m    224\u001b[0m     \u001b[38;5;28mself\u001b[39m\u001b[38;5;241m.\u001b[39mkernel,\n\u001b[1;32m    225\u001b[0m     \u001b[38;5;28mself\u001b[39m\u001b[38;5;241m.\u001b[39mwarmup_steps,\n\u001b[1;32m    226\u001b[0m     \u001b[38;5;28mself\u001b[39m\u001b[38;5;241m.\u001b[39mnum_samples,\n\u001b[1;32m    227\u001b[0m     hook_w_logging,\n\u001b[1;32m    228\u001b[0m     i \u001b[38;5;28;01mif\u001b[39;00m \u001b[38;5;28mself\u001b[39m\u001b[38;5;241m.\u001b[39mnum_chains \u001b[38;5;241m>\u001b[39m \u001b[38;5;241m1\u001b[39m \u001b[38;5;28;01melse\u001b[39;00m \u001b[38;5;28;01mNone\u001b[39;00m,\n\u001b[1;32m    229\u001b[0m     \u001b[38;5;241m*\u001b[39margs,\n\u001b[1;32m    230\u001b[0m     \u001b[38;5;241m*\u001b[39m\u001b[38;5;241m*\u001b[39mkwargs\n\u001b[1;32m    231\u001b[0m ):\n\u001b[1;32m    232\u001b[0m     \u001b[38;5;28;01myield\u001b[39;00m sample, i  \u001b[38;5;66;03m# sample, chain_id\u001b[39;00m\n\u001b[1;32m    233\u001b[0m \u001b[38;5;28mself\u001b[39m\u001b[38;5;241m.\u001b[39mkernel\u001b[38;5;241m.\u001b[39mcleanup()\n",
      "File \u001b[0;32m~/.conda/envs/progettopml/lib/python3.9/site-packages/pyro/infer/mcmc/api.py:144\u001b[0m, in \u001b[0;36m_gen_samples\u001b[0;34m(kernel, warmup_steps, num_samples, hook, chain_id, *args, **kwargs)\u001b[0m\n\u001b[1;32m    143\u001b[0m \u001b[38;5;28;01mdef\u001b[39;00m \u001b[38;5;21m_gen_samples\u001b[39m(kernel, warmup_steps, num_samples, hook, chain_id, \u001b[38;5;241m*\u001b[39margs, \u001b[38;5;241m*\u001b[39m\u001b[38;5;241m*\u001b[39mkwargs):\n\u001b[0;32m--> 144\u001b[0m     \u001b[43mkernel\u001b[49m\u001b[38;5;241;43m.\u001b[39;49m\u001b[43msetup\u001b[49m\u001b[43m(\u001b[49m\u001b[43mwarmup_steps\u001b[49m\u001b[43m,\u001b[49m\u001b[43m \u001b[49m\u001b[38;5;241;43m*\u001b[39;49m\u001b[43margs\u001b[49m\u001b[43m,\u001b[49m\u001b[43m \u001b[49m\u001b[38;5;241;43m*\u001b[39;49m\u001b[38;5;241;43m*\u001b[39;49m\u001b[43mkwargs\u001b[49m\u001b[43m)\u001b[49m\n\u001b[1;32m    145\u001b[0m     params \u001b[38;5;241m=\u001b[39m kernel\u001b[38;5;241m.\u001b[39minitial_params\n\u001b[1;32m    146\u001b[0m     save_params \u001b[38;5;241m=\u001b[39m \u001b[38;5;28mgetattr\u001b[39m(kernel, \u001b[38;5;124m\"\u001b[39m\u001b[38;5;124msave_params\u001b[39m\u001b[38;5;124m\"\u001b[39m, \u001b[38;5;28msorted\u001b[39m(params))\n",
      "File \u001b[0;32m~/.conda/envs/progettopml/lib/python3.9/site-packages/pyro/infer/mcmc/hmc.py:325\u001b[0m, in \u001b[0;36mHMC.setup\u001b[0;34m(self, warmup_steps, *args, **kwargs)\u001b[0m\n\u001b[1;32m    323\u001b[0m \u001b[38;5;28mself\u001b[39m\u001b[38;5;241m.\u001b[39m_warmup_steps \u001b[38;5;241m=\u001b[39m warmup_steps\n\u001b[1;32m    324\u001b[0m \u001b[38;5;28;01mif\u001b[39;00m \u001b[38;5;28mself\u001b[39m\u001b[38;5;241m.\u001b[39mmodel \u001b[38;5;129;01mis\u001b[39;00m \u001b[38;5;129;01mnot\u001b[39;00m \u001b[38;5;28;01mNone\u001b[39;00m:\n\u001b[0;32m--> 325\u001b[0m     \u001b[38;5;28;43mself\u001b[39;49m\u001b[38;5;241;43m.\u001b[39;49m\u001b[43m_initialize_model_properties\u001b[49m\u001b[43m(\u001b[49m\u001b[43margs\u001b[49m\u001b[43m,\u001b[49m\u001b[43m \u001b[49m\u001b[43mkwargs\u001b[49m\u001b[43m)\u001b[49m\n\u001b[1;32m    326\u001b[0m \u001b[38;5;28;01mif\u001b[39;00m \u001b[38;5;28mself\u001b[39m\u001b[38;5;241m.\u001b[39minitial_params:\n\u001b[1;32m    327\u001b[0m     z \u001b[38;5;241m=\u001b[39m {k: v\u001b[38;5;241m.\u001b[39mdetach() \u001b[38;5;28;01mfor\u001b[39;00m k, v \u001b[38;5;129;01min\u001b[39;00m \u001b[38;5;28mself\u001b[39m\u001b[38;5;241m.\u001b[39minitial_params\u001b[38;5;241m.\u001b[39mitems()}\n",
      "File \u001b[0;32m~/.conda/envs/progettopml/lib/python3.9/site-packages/pyro/infer/mcmc/hmc.py:259\u001b[0m, in \u001b[0;36mHMC._initialize_model_properties\u001b[0;34m(self, model_args, model_kwargs)\u001b[0m\n\u001b[1;32m    258\u001b[0m \u001b[38;5;28;01mdef\u001b[39;00m \u001b[38;5;21m_initialize_model_properties\u001b[39m(\u001b[38;5;28mself\u001b[39m, model_args, model_kwargs):\n\u001b[0;32m--> 259\u001b[0m     init_params, potential_fn, transforms, trace \u001b[38;5;241m=\u001b[39m \u001b[43minitialize_model\u001b[49m\u001b[43m(\u001b[49m\n\u001b[1;32m    260\u001b[0m \u001b[43m        \u001b[49m\u001b[38;5;28;43mself\u001b[39;49m\u001b[38;5;241;43m.\u001b[39;49m\u001b[43mmodel\u001b[49m\u001b[43m,\u001b[49m\n\u001b[1;32m    261\u001b[0m \u001b[43m        \u001b[49m\u001b[43mmodel_args\u001b[49m\u001b[43m,\u001b[49m\n\u001b[1;32m    262\u001b[0m \u001b[43m        \u001b[49m\u001b[43mmodel_kwargs\u001b[49m\u001b[43m,\u001b[49m\n\u001b[1;32m    263\u001b[0m \u001b[43m        \u001b[49m\u001b[43mtransforms\u001b[49m\u001b[38;5;241;43m=\u001b[39;49m\u001b[38;5;28;43mself\u001b[39;49m\u001b[38;5;241;43m.\u001b[39;49m\u001b[43mtransforms\u001b[49m\u001b[43m,\u001b[49m\n\u001b[1;32m    264\u001b[0m \u001b[43m        \u001b[49m\u001b[43mmax_plate_nesting\u001b[49m\u001b[38;5;241;43m=\u001b[39;49m\u001b[38;5;28;43mself\u001b[39;49m\u001b[38;5;241;43m.\u001b[39;49m\u001b[43m_max_plate_nesting\u001b[49m\u001b[43m,\u001b[49m\n\u001b[1;32m    265\u001b[0m \u001b[43m        \u001b[49m\u001b[43mjit_compile\u001b[49m\u001b[38;5;241;43m=\u001b[39;49m\u001b[38;5;28;43mself\u001b[39;49m\u001b[38;5;241;43m.\u001b[39;49m\u001b[43m_jit_compile\u001b[49m\u001b[43m,\u001b[49m\n\u001b[1;32m    266\u001b[0m \u001b[43m        \u001b[49m\u001b[43mjit_options\u001b[49m\u001b[38;5;241;43m=\u001b[39;49m\u001b[38;5;28;43mself\u001b[39;49m\u001b[38;5;241;43m.\u001b[39;49m\u001b[43m_jit_options\u001b[49m\u001b[43m,\u001b[49m\n\u001b[1;32m    267\u001b[0m \u001b[43m        \u001b[49m\u001b[43mskip_jit_warnings\u001b[49m\u001b[38;5;241;43m=\u001b[39;49m\u001b[38;5;28;43mself\u001b[39;49m\u001b[38;5;241;43m.\u001b[39;49m\u001b[43m_ignore_jit_warnings\u001b[49m\u001b[43m,\u001b[49m\n\u001b[1;32m    268\u001b[0m \u001b[43m        \u001b[49m\u001b[43minit_strategy\u001b[49m\u001b[38;5;241;43m=\u001b[39;49m\u001b[38;5;28;43mself\u001b[39;49m\u001b[38;5;241;43m.\u001b[39;49m\u001b[43m_init_strategy\u001b[49m\u001b[43m,\u001b[49m\n\u001b[1;32m    269\u001b[0m \u001b[43m        \u001b[49m\u001b[43minitial_params\u001b[49m\u001b[38;5;241;43m=\u001b[39;49m\u001b[38;5;28;43mself\u001b[39;49m\u001b[38;5;241;43m.\u001b[39;49m\u001b[43m_initial_params\u001b[49m\u001b[43m,\u001b[49m\n\u001b[1;32m    270\u001b[0m \u001b[43m    \u001b[49m\u001b[43m)\u001b[49m\n\u001b[1;32m    271\u001b[0m     \u001b[38;5;28mself\u001b[39m\u001b[38;5;241m.\u001b[39mpotential_fn \u001b[38;5;241m=\u001b[39m potential_fn\n\u001b[1;32m    272\u001b[0m     \u001b[38;5;28mself\u001b[39m\u001b[38;5;241m.\u001b[39mtransforms \u001b[38;5;241m=\u001b[39m transforms\n",
      "File \u001b[0;32m~/.conda/envs/progettopml/lib/python3.9/site-packages/pyro/infer/mcmc/util.py:427\u001b[0m, in \u001b[0;36minitialize_model\u001b[0;34m(model, model_args, model_kwargs, transforms, max_plate_nesting, jit_compile, jit_options, skip_jit_warnings, num_chains, init_strategy, initial_params)\u001b[0m\n\u001b[1;32m    425\u001b[0m     automatic_transform_enabled \u001b[38;5;241m=\u001b[39m \u001b[38;5;28;01mFalse\u001b[39;00m\n\u001b[1;32m    426\u001b[0m \u001b[38;5;28;01mif\u001b[39;00m max_plate_nesting \u001b[38;5;129;01mis\u001b[39;00m \u001b[38;5;28;01mNone\u001b[39;00m:\n\u001b[0;32m--> 427\u001b[0m     max_plate_nesting \u001b[38;5;241m=\u001b[39m \u001b[43m_guess_max_plate_nesting\u001b[49m\u001b[43m(\u001b[49m\u001b[43mmodel\u001b[49m\u001b[43m,\u001b[49m\u001b[43m \u001b[49m\u001b[43mmodel_args\u001b[49m\u001b[43m,\u001b[49m\u001b[43m \u001b[49m\u001b[43mmodel_kwargs\u001b[49m\u001b[43m)\u001b[49m\n\u001b[1;32m    428\u001b[0m \u001b[38;5;66;03m# Wrap model in `poutine.enum` to enumerate over discrete latent sites.\u001b[39;00m\n\u001b[1;32m    429\u001b[0m \u001b[38;5;66;03m# No-op if model does not have any discrete latents.\u001b[39;00m\n\u001b[1;32m    430\u001b[0m model \u001b[38;5;241m=\u001b[39m poutine\u001b[38;5;241m.\u001b[39menum(\n\u001b[1;32m    431\u001b[0m     config_enumerate(model), first_available_dim\u001b[38;5;241m=\u001b[39m\u001b[38;5;241m-\u001b[39m\u001b[38;5;241m1\u001b[39m \u001b[38;5;241m-\u001b[39m max_plate_nesting\n\u001b[1;32m    432\u001b[0m )\n",
      "File \u001b[0;32m~/.conda/envs/progettopml/lib/python3.9/site-packages/pyro/infer/mcmc/util.py:251\u001b[0m, in \u001b[0;36m_guess_max_plate_nesting\u001b[0;34m(model, args, kwargs)\u001b[0m\n\u001b[1;32m    245\u001b[0m \u001b[38;5;124;03m\"\"\"\u001b[39;00m\n\u001b[1;32m    246\u001b[0m \u001b[38;5;124;03mGuesses max_plate_nesting by running the model once\u001b[39;00m\n\u001b[1;32m    247\u001b[0m \u001b[38;5;124;03mwithout enumeration. This optimistically assumes static model\u001b[39;00m\n\u001b[1;32m    248\u001b[0m \u001b[38;5;124;03mstructure.\u001b[39;00m\n\u001b[1;32m    249\u001b[0m \u001b[38;5;124;03m\"\"\"\u001b[39;00m\n\u001b[1;32m    250\u001b[0m \u001b[38;5;28;01mwith\u001b[39;00m poutine\u001b[38;5;241m.\u001b[39mblock():\n\u001b[0;32m--> 251\u001b[0m     model_trace \u001b[38;5;241m=\u001b[39m \u001b[43mpoutine\u001b[49m\u001b[38;5;241;43m.\u001b[39;49m\u001b[43mtrace\u001b[49m\u001b[43m(\u001b[49m\u001b[43mmodel\u001b[49m\u001b[43m)\u001b[49m\u001b[38;5;241;43m.\u001b[39;49m\u001b[43mget_trace\u001b[49m\u001b[43m(\u001b[49m\u001b[38;5;241;43m*\u001b[39;49m\u001b[43margs\u001b[49m\u001b[43m,\u001b[49m\u001b[43m \u001b[49m\u001b[38;5;241;43m*\u001b[39;49m\u001b[38;5;241;43m*\u001b[39;49m\u001b[43mkwargs\u001b[49m\u001b[43m)\u001b[49m\n\u001b[1;32m    252\u001b[0m sites \u001b[38;5;241m=\u001b[39m [site \u001b[38;5;28;01mfor\u001b[39;00m site \u001b[38;5;129;01min\u001b[39;00m model_trace\u001b[38;5;241m.\u001b[39mnodes\u001b[38;5;241m.\u001b[39mvalues() \u001b[38;5;28;01mif\u001b[39;00m site[\u001b[38;5;124m\"\u001b[39m\u001b[38;5;124mtype\u001b[39m\u001b[38;5;124m\"\u001b[39m] \u001b[38;5;241m==\u001b[39m \u001b[38;5;124m\"\u001b[39m\u001b[38;5;124msample\u001b[39m\u001b[38;5;124m\"\u001b[39m]\n\u001b[1;32m    254\u001b[0m dims \u001b[38;5;241m=\u001b[39m [\n\u001b[1;32m    255\u001b[0m     frame\u001b[38;5;241m.\u001b[39mdim\n\u001b[1;32m    256\u001b[0m     \u001b[38;5;28;01mfor\u001b[39;00m site \u001b[38;5;129;01min\u001b[39;00m sites\n\u001b[1;32m    257\u001b[0m     \u001b[38;5;28;01mfor\u001b[39;00m frame \u001b[38;5;129;01min\u001b[39;00m site[\u001b[38;5;124m\"\u001b[39m\u001b[38;5;124mcond_indep_stack\u001b[39m\u001b[38;5;124m\"\u001b[39m]\n\u001b[1;32m    258\u001b[0m     \u001b[38;5;28;01mif\u001b[39;00m frame\u001b[38;5;241m.\u001b[39mvectorized\n\u001b[1;32m    259\u001b[0m ]\n",
      "File \u001b[0;32m~/.conda/envs/progettopml/lib/python3.9/site-packages/pyro/poutine/trace_messenger.py:198\u001b[0m, in \u001b[0;36mTraceHandler.get_trace\u001b[0;34m(self, *args, **kwargs)\u001b[0m\n\u001b[1;32m    190\u001b[0m \u001b[38;5;28;01mdef\u001b[39;00m \u001b[38;5;21mget_trace\u001b[39m(\u001b[38;5;28mself\u001b[39m, \u001b[38;5;241m*\u001b[39margs, \u001b[38;5;241m*\u001b[39m\u001b[38;5;241m*\u001b[39mkwargs):\n\u001b[1;32m    191\u001b[0m     \u001b[38;5;124;03m\"\"\"\u001b[39;00m\n\u001b[1;32m    192\u001b[0m \u001b[38;5;124;03m    :returns: data structure\u001b[39;00m\n\u001b[1;32m    193\u001b[0m \u001b[38;5;124;03m    :rtype: pyro.poutine.Trace\u001b[39;00m\n\u001b[0;32m   (...)\u001b[0m\n\u001b[1;32m    196\u001b[0m \u001b[38;5;124;03m    Calls this poutine and returns its trace instead of the function's return value.\u001b[39;00m\n\u001b[1;32m    197\u001b[0m \u001b[38;5;124;03m    \"\"\"\u001b[39;00m\n\u001b[0;32m--> 198\u001b[0m     \u001b[38;5;28;43mself\u001b[39;49m\u001b[43m(\u001b[49m\u001b[38;5;241;43m*\u001b[39;49m\u001b[43margs\u001b[49m\u001b[43m,\u001b[49m\u001b[43m \u001b[49m\u001b[38;5;241;43m*\u001b[39;49m\u001b[38;5;241;43m*\u001b[39;49m\u001b[43mkwargs\u001b[49m\u001b[43m)\u001b[49m\n\u001b[1;32m    199\u001b[0m     \u001b[38;5;28;01mreturn\u001b[39;00m \u001b[38;5;28mself\u001b[39m\u001b[38;5;241m.\u001b[39mmsngr\u001b[38;5;241m.\u001b[39mget_trace()\n",
      "File \u001b[0;32m~/.conda/envs/progettopml/lib/python3.9/site-packages/pyro/poutine/trace_messenger.py:174\u001b[0m, in \u001b[0;36mTraceHandler.__call__\u001b[0;34m(self, *args, **kwargs)\u001b[0m\n\u001b[1;32m    170\u001b[0m \u001b[38;5;28mself\u001b[39m\u001b[38;5;241m.\u001b[39mmsngr\u001b[38;5;241m.\u001b[39mtrace\u001b[38;5;241m.\u001b[39madd_node(\n\u001b[1;32m    171\u001b[0m     \u001b[38;5;124m\"\u001b[39m\u001b[38;5;124m_INPUT\u001b[39m\u001b[38;5;124m\"\u001b[39m, name\u001b[38;5;241m=\u001b[39m\u001b[38;5;124m\"\u001b[39m\u001b[38;5;124m_INPUT\u001b[39m\u001b[38;5;124m\"\u001b[39m, \u001b[38;5;28mtype\u001b[39m\u001b[38;5;241m=\u001b[39m\u001b[38;5;124m\"\u001b[39m\u001b[38;5;124margs\u001b[39m\u001b[38;5;124m\"\u001b[39m, args\u001b[38;5;241m=\u001b[39margs, kwargs\u001b[38;5;241m=\u001b[39mkwargs\n\u001b[1;32m    172\u001b[0m )\n\u001b[1;32m    173\u001b[0m \u001b[38;5;28;01mtry\u001b[39;00m:\n\u001b[0;32m--> 174\u001b[0m     ret \u001b[38;5;241m=\u001b[39m \u001b[38;5;28;43mself\u001b[39;49m\u001b[38;5;241;43m.\u001b[39;49m\u001b[43mfn\u001b[49m\u001b[43m(\u001b[49m\u001b[38;5;241;43m*\u001b[39;49m\u001b[43margs\u001b[49m\u001b[43m,\u001b[49m\u001b[43m \u001b[49m\u001b[38;5;241;43m*\u001b[39;49m\u001b[38;5;241;43m*\u001b[39;49m\u001b[43mkwargs\u001b[49m\u001b[43m)\u001b[49m\n\u001b[1;32m    175\u001b[0m \u001b[38;5;28;01mexcept\u001b[39;00m (\u001b[38;5;167;01mValueError\u001b[39;00m, \u001b[38;5;167;01mRuntimeError\u001b[39;00m) \u001b[38;5;28;01mas\u001b[39;00m e:\n\u001b[1;32m    176\u001b[0m     exc_type, exc_value, traceback \u001b[38;5;241m=\u001b[39m sys\u001b[38;5;241m.\u001b[39mexc_info()\n",
      "Input \u001b[0;32mIn [12]\u001b[0m, in \u001b[0;36mheston.<locals>.model\u001b[0;34m(data)\u001b[0m\n\u001b[1;32m     17\u001b[0m sigmanu\u001b[38;5;241m=\u001b[39mxi\u001b[38;5;241m*\u001b[39mmath\u001b[38;5;241m.\u001b[39msqrt(nu)\u001b[38;5;241m*\u001b[39m\u001b[38;5;241m2\u001b[39m\u001b[38;5;241m*\u001b[39mmath\u001b[38;5;241m.\u001b[39msqrt(deltat)\n\u001b[1;32m     18\u001b[0m s\u001b[38;5;241m=\u001b[39mpyro\u001b[38;5;241m.\u001b[39msample(\u001b[38;5;124m\"\u001b[39m\u001b[38;5;124ms_\u001b[39m\u001b[38;5;132;01m{}\u001b[39;00m\u001b[38;5;124m\"\u001b[39m\u001b[38;5;241m.\u001b[39mformat(i),dist\u001b[38;5;241m.\u001b[39mNormal(mus,sigmas) ,obs\u001b[38;5;241m=\u001b[39mdata[i])\n\u001b[0;32m---> 19\u001b[0m nu\u001b[38;5;241m=\u001b[39m\u001b[43mtorch\u001b[49m\u001b[38;5;241;43m.\u001b[39;49m\u001b[43mmax\u001b[49m\u001b[43m(\u001b[49m\u001b[43mpyro\u001b[49m\u001b[38;5;241;43m.\u001b[39;49m\u001b[43msample\u001b[49m\u001b[43m(\u001b[49m\u001b[38;5;124;43m\"\u001b[39;49m\u001b[38;5;124;43mnu_\u001b[39;49m\u001b[38;5;132;43;01m{}\u001b[39;49;00m\u001b[38;5;124;43m\"\u001b[39;49m\u001b[38;5;241;43m.\u001b[39;49m\u001b[43mformat\u001b[49m\u001b[43m(\u001b[49m\u001b[43mi\u001b[49m\u001b[43m)\u001b[49m\u001b[43m,\u001b[49m\u001b[43mdist\u001b[49m\u001b[38;5;241;43m.\u001b[39;49m\u001b[43mNormal\u001b[49m\u001b[43m(\u001b[49m\u001b[43mmunu\u001b[49m\u001b[43m,\u001b[49m\u001b[43msigmanu\u001b[49m\u001b[43m)\u001b[49m\u001b[43m)\u001b[49m\u001b[43m,\u001b[49m\u001b[38;5;241;43m0.0001\u001b[39;49m\u001b[43m)\u001b[49m\n",
      "\u001b[0;31mTypeError\u001b[0m: max() received an invalid combination of arguments - got (Tensor, float), but expected one of:\n * (Tensor input)\n * (Tensor input, Tensor other, *, Tensor out)\n * (Tensor input, int dim, bool keepdim, *, tuple of Tensors out)\n * (Tensor input, name dim, bool keepdim, *, tuple of Tensors out)\n"
     ]
    }
   ],
   "source": [
    "heston(data)"
   ]
  },
  {
   "cell_type": "code",
   "execution_count": null,
   "id": "c9871899",
   "metadata": {},
   "outputs": [],
   "source": []
  },
  {
   "cell_type": "code",
   "execution_count": null,
   "id": "70a5dfdd",
   "metadata": {},
   "outputs": [],
   "source": []
  },
  {
   "cell_type": "code",
   "execution_count": null,
   "id": "adc07644",
   "metadata": {},
   "outputs": [],
   "source": []
  }
 ],
 "metadata": {
  "kernelspec": {
   "display_name": "Python 3 (ipykernel)",
   "language": "python",
   "name": "python3"
  },
  "language_info": {
   "codemirror_mode": {
    "name": "ipython",
    "version": 3
   },
   "file_extension": ".py",
   "mimetype": "text/x-python",
   "name": "python",
   "nbconvert_exporter": "python",
   "pygments_lexer": "ipython3",
   "version": "3.9.7"
  }
 },
 "nbformat": 4,
 "nbformat_minor": 5
}
