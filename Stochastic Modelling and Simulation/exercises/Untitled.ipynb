{
 "cells": [
  {
   "cell_type": "code",
   "execution_count": null,
   "id": "939ce1cf-934a-4afc-a3ad-94cd812ac85c",
   "metadata": {},
   "outputs": [],
   "source": [
    "from sympy import *"
   ]
  },
  {
   "cell_type": "code",
   "execution_count": 36,
   "id": "f1d3a99d-93ed-41b6-b69e-cfeec806ca05",
   "metadata": {},
   "outputs": [],
   "source": [
    "t,s,sigma,k,s0,N=symbols('t,s,sigma,k,s0,N',positive=True)\n"
   ]
  },
  {
   "cell_type": "code",
   "execution_count": 37,
   "id": "af4281c0-2250-41c6-ac07-9e2d79860233",
   "metadata": {},
   "outputs": [],
   "source": [
    "f=-log(s*sigma*sqrt(t))-(log(s)-log(s0)-k*t)**2/(2*sigma**2*t)"
   ]
  },
  {
   "cell_type": "code",
   "execution_count": 38,
   "id": "b644d44d-5e2b-47f0-9bcf-d760f1bc0ece",
   "metadata": {},
   "outputs": [
    {
     "name": "stdout",
     "output_type": "stream",
     "text": [
      "-1/sigma + (k*t + log(s0/s))**2/(sigma**3*t)\n"
     ]
    },
    {
     "data": {
      "text/latex": [
       "$\\displaystyle \\left\\{- \\frac{k t - \\log{\\left(s \\right)} + \\log{\\left(s_{0} \\right)}}{\\sqrt{t}}, \\frac{k t - \\log{\\left(s \\right)} + \\log{\\left(s_{0} \\right)}}{\\sqrt{t}}\\right\\} \\setminus \\left\\{0\\right\\}$"
      ],
      "text/plain": [
       "Complement({-(k*t - log(s) + log(s0))/sqrt(t), (k*t - log(s) + log(s0))/sqrt(t)}, {0})"
      ]
     },
     "execution_count": 38,
     "metadata": {},
     "output_type": "execute_result"
    }
   ],
   "source": [
    "df=simplify(diff(f,sigma))\n",
    "print(df)\n",
    "solveset(Eq(df,0),sigma)"
   ]
  },
  {
   "cell_type": "code",
   "execution_count": 39,
   "id": "248bd165-a81a-4607-998a-b94f33adb6c2",
   "metadata": {},
   "outputs": [],
   "source": [
    "f=-N*log(s0*sigma*sqrt(t))-((s-s0-s0*k*t)/(sqrt(2)*s0*sigma*sqrt(t)))**2"
   ]
  },
  {
   "cell_type": "code",
   "execution_count": 40,
   "id": "6e2cde19-5e3e-423c-a9f3-7518115e0eb4",
   "metadata": {},
   "outputs": [
    {
     "name": "stdout",
     "output_type": "stream",
     "text": [
      "-N/sigma + (k*s0*t - s + s0)**2/(s0**2*sigma**3*t)\n"
     ]
    },
    {
     "data": {
      "text/latex": [
       "$\\displaystyle \\left\\{- \\frac{- k s_{0} t + s - s_{0}}{\\sqrt{N} s_{0} \\sqrt{t}}, \\frac{- k s_{0} t + s - s_{0}}{\\sqrt{N} s_{0} \\sqrt{t}}\\right\\} \\setminus \\left\\{0\\right\\}$"
      ],
      "text/plain": [
       "Complement({-(-k*s0*t + s - s0)/(sqrt(N)*s0*sqrt(t)), (-k*s0*t + s - s0)/(sqrt(N)*s0*sqrt(t))}, {0})"
      ]
     },
     "execution_count": 40,
     "metadata": {},
     "output_type": "execute_result"
    }
   ],
   "source": [
    "df=simplify(diff(f,sigma))\n",
    "print(df)\n",
    "solveset(Eq(df,0),sigma)"
   ]
  },
  {
   "cell_type": "code",
   "execution_count": null,
   "id": "112ebb42-554e-4a9f-80b0-3096089481ff",
   "metadata": {},
   "outputs": [],
   "source": []
  },
  {
   "cell_type": "code",
   "execution_count": null,
   "id": "f5372ed8-2d91-4f63-a02c-5a266a57c5e0",
   "metadata": {},
   "outputs": [],
   "source": [
    " "
   ]
  }
 ],
 "metadata": {
  "kernelspec": {
   "display_name": "Python 3 (ipykernel)",
   "language": "python",
   "name": "python3"
  },
  "language_info": {
   "codemirror_mode": {
    "name": "ipython",
    "version": 3
   },
   "file_extension": ".py",
   "mimetype": "text/x-python",
   "name": "python",
   "nbconvert_exporter": "python",
   "pygments_lexer": "ipython3",
   "version": "3.9.7"
  }
 },
 "nbformat": 4,
 "nbformat_minor": 5
}
