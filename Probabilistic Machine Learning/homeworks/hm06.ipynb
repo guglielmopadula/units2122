{
 "cells": [
  {
   "cell_type": "code",
   "execution_count": 1,
   "id": "d342ff83-6e87-4589-bbf7-de05cb18854e",
   "metadata": {
    "tags": []
   },
   "outputs": [],
   "source": [
    "import torch.distributions.constraints as constraints\n",
    "from sklearn.model_selection import train_test_split\n",
    "import torch\n",
    "from sklearn.datasets import load_digits\n",
    "import pyro.distributions as dist\n",
    "import pyro.optim as optim\n",
    "import pyro\n",
    "from pyro.infer import SVI, Trace_ELBO\n",
    "from pyro.infer import Predictive\n",
    "import warnings\n",
    "warnings.filterwarnings(\"ignore\")\n",
    "\n",
    "dataset = load_digits()\n",
    "x, y = dataset.data, dataset.target\n",
    "x=torch.tensor(x).float()\n",
    "X=torch.tensor((x-x.min())/(x.max()-x.min()))\n",
    "y=torch.tensor(y)\n",
    "X_train, X_test, y_train, y_test = train_test_split(X, y, test_size=0.33, random_state=2)\n",
    "\n",
    "pyro.clear_param_store()\n",
    "def model(x, y):\n",
    "    w = pyro.sample(\"w\", dist.Normal(torch.zeros(len(y),x.shape[1]), torch.ones(len(y), x.shape[1])))\n",
    "    b = pyro.sample(\"b\", dist.Normal(torch.zeros(len(y)),torch.ones(len(y))))\n",
    "    yhat = torch.sigmoid(torch.matmul(x,w.T) + b)\n",
    "    with pyro.plate(\"data\",  x.shape[0]):\n",
    "        y = pyro.sample(\"y\", dist.Categorical(yhat), obs=y)\n",
    "        \n",
    "\n",
    "def guide(x,y):\n",
    "    wscale = pyro.param(\"wscale\", torch.rand(len(y),  x.shape[1]), constraint=constraints.positive)\n",
    "    wloc = pyro.param(\"wloc\", torch.rand(len(y), x.shape[1]))\n",
    "    w = pyro.sample(\"w\", dist.Normal(wloc, wscale))\n",
    "    bloc = pyro.param(\"bloc\", torch.rand(len(y)))\n",
    "    bscale = pyro.param(\"bscale\", torch.rand(len(y)),constraint=constraints.positive)\n",
    "    b = pyro.sample(\"b\", dist.Normal(bloc, bscale))\n",
    "    \n",
    "svi = SVI(model=model, guide=guide, loss=Trace_ELBO(), optim=optim.Adam({'lr' : 0.05}))\n",
    "for step in range(100):\n",
    "    loss = svi.step(X_train, y_train)/len(X_train)\n",
    "w = pyro.get_param_store()[\"wloc\"]\n",
    "b = pyro.get_param_store()[\"bloc\"]\n",
    "def predict(x):\n",
    "    out = torch.sigmoid(torch.matmul(x,w.T) + b)\n",
    "    return torch.argmax(out,dim=0)\n",
    "prediction=predict(X_test)"
   ]
  },
  {
   "cell_type": "code",
   "execution_count": 2,
   "id": "4e80231d-da3c-4c8d-8255-cda3e0560e59",
   "metadata": {},
   "outputs": [],
   "source": []
  },
  {
   "cell_type": "code",
   "execution_count": 3,
   "id": "59f06aca-af0b-4beb-a905-afc637373073",
   "metadata": {},
   "outputs": [],
   "source": []
  },
  {
   "cell_type": "code",
   "execution_count": null,
   "id": "7b6bf587-8e71-4812-9a18-9ddd8a177aa9",
   "metadata": {},
   "outputs": [],
   "source": []
  },
  {
   "cell_type": "code",
   "execution_count": null,
   "id": "a594d05e-53ab-4fc8-a61a-72fdad9ff20d",
   "metadata": {},
   "outputs": [],
   "source": []
  }
 ],
 "metadata": {
  "kernelspec": {
   "display_name": "Python 3",
   "language": "python",
   "name": "python3"
  },
  "language_info": {
   "codemirror_mode": {
    "name": "ipython",
    "version": 3
   },
   "file_extension": ".py",
   "mimetype": "text/x-python",
   "name": "python",
   "nbconvert_exporter": "python",
   "pygments_lexer": "ipython3",
   "version": "3.6.9"
  }
 },
 "nbformat": 4,
 "nbformat_minor": 5
}
