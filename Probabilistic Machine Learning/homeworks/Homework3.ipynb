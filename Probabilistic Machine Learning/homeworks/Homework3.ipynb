{
 "cells": [
  {
   "cell_type": "code",
   "execution_count": 15,
   "id": "4887aac0",
   "metadata": {},
   "outputs": [],
   "source": [
    "import pyro\n",
    "import torch\n",
    "import pyro.distributions as dist\n",
    "import networkx as nx\n",
    "from IPython.display import Image, display\n"
   ]
  },
  {
   "cell_type": "markdown",
   "id": "dcd7c892",
   "metadata": {},
   "source": [
    "# Exercise 1"
   ]
  },
  {
   "cell_type": "code",
   "execution_count": 18,
   "id": "47cc6e7b",
   "metadata": {
    "scrolled": true
   },
   "outputs": [
    {
     "data": {
      "image/png": "[encoded data removed]",
      "text/plain": [
       "<IPython.core.display.Image object>"
      ]
     },
     "metadata": {},
     "output_type": "display_data"
    }
   ],
   "source": [
    "def plot_ctmc(labels, transition_matrix):\n",
    "    \n",
    "    def get_label(my_dict,val):\n",
    "        for key, value in my_dict.items():\n",
    "            if val == value:\n",
    "                return key\n",
    "    \n",
    "    n=len(transition_matrix)\n",
    "    G = nx.MultiDiGraph()\n",
    "    G.add_nodes_from(labels.keys())\n",
    "    for i in range(n):\n",
    "        for j in range(n):\n",
    "            if transition_matrix[i,j]>0:\n",
    "                G.add_edge(get_label(labels,i),get_label(labels,j),weight=transition_matrix[i,j]) \n",
    "    pdot=nx.drawing.nx_pydot.to_pydot(G)\n",
    "    plt = Image(pdot.create_png())\n",
    "    display(plt)\n",
    "\n",
    "labels={\"A\":0,\"B\":1,\"C\":2,\"D\":3,\"E\":4,\"F\":5,\"G\":6} \n",
    "matrix=torch.zeros(7,7)\n",
    "matrix[0,1]=1\n",
    "matrix[1,5]=1\n",
    "matrix[0,2]=1\n",
    "matrix[1,3]=1\n",
    "matrix[3,4]=1\n",
    "matrix[5,4]=1\n",
    "\n",
    "\n",
    "plot_ctmc(labels,matrix)"
   ]
  },
  {
   "cell_type": "markdown",
   "id": "f199265c",
   "metadata": {},
   "source": [
    "a.) False, because they are head to tail in $B$.\n",
    "\n",
    "b.) False, because they are tail to tail in $B$.\n",
    "\n",
    "c.) False, in fact $$p(A,B|C)=\\frac{p(A,B,C)}{p(C)}=\\frac{p(A|B)p(C|A)p(A)}{p(C)}=p(A|C)P(B|A)\\neq P(A|C)P(B|C)$$\n",
    "\n",
    "d.) Yes, because they are tail to tail in $B$\n",
    "\n",
    "e.) No, because they are head to head in $E$\n",
    "\n",
    "f.)No, in fact $p(B,E|F)=\\sum\\limits_{D} \\frac{P(B)P(D|B)P(F|B)P(E|D)P(E|F)}{P(F)}=P(E|F)P(B|F)\\sum\\limits_{D} P(E|D)P(D|B)\\neq P(E|F)P(B|F)$\n",
    "\n",
    "\n",
    "g.) Yes\n",
    "\n",
    "Proof:\n",
    "\n",
    "$P(A,D|B,F)=\\frac{P(A)P(B|A)P(F|B)P(D|B)}{P(B,F)}=\\frac{P(A)P(B|A)P(F|B)P(D|B)}{P(F|B)P(B)}=\\frac{P(A)P(B|A)P(D|B)}{P(B)}=P(A|B)P(D|B)$. \n",
    "\n",
    "Also $P(A|B,F)=\\frac{P(A)P(B|A)P(F|B)}{P(B,F)}=\\frac{P(A)P(B|A)}{P(B)}=P(A|B)$\n",
    "\n",
    "Also $P(D|B,F)=\\frac{P(B)P(D|B)P(F|B)}{P(F,B)}=P(D|B)$\n",
    "\n",
    "Substitung we arrive at $P(A,D|B,F)=P(A|B,F)P(D|B,F)$"
   ]
  },
  {
   "cell_type": "markdown",
   "id": "8ffd1419-9fd9-4afb-91ac-36626cac7459",
   "metadata": {
    "tags": []
   },
   "source": [
    "# Exercise 2"
   ]
  },
  {
   "cell_type": "markdown",
   "id": "6ca0cd72-9185-46f3-a2f9-4b444aebe267",
   "metadata": {
    "tags": []
   },
   "source": [
    "The generative model is\n",
    "$$ [\\prod\\limits_{j=1}^{N}\\prod\\limits_{i=1}^{S}P(u_{ij}|r_{i},\\pi_{j})][\\prod\\limits_{j=1}^{N}P(\\pi_{j}|\\beta_{\\pi},\\alpha_{\\pi})][\\prod_{i=1}^{S}P(r_{i}|p)]P(p|\\alpha_{p},\\beta_{p})$$"
   ]
  },
  {
   "cell_type": "code",
   "execution_count": 12,
   "id": "b4e54932",
   "metadata": {},
   "outputs": [
    {
     "name": "stdout",
     "output_type": "stream",
     "text": [
      "tensor([[1., 1., 0., 0., 1., 0.],\n",
      "        [0., 0., 1., 1., 1., 1.],\n",
      "        [0., 0., 0., 0., 0., 1.],\n",
      "        [1., 0., 1., 1., 1., 0.],\n",
      "        [1., 1., 1., 1., 0., 1.],\n",
      "        [1., 0., 0., 0., 1., 1.],\n",
      "        [1., 1., 0., 1., 1., 0.],\n",
      "        [1., 0., 1., 1., 0., 1.],\n",
      "        [1., 1., 1., 1., 1., 1.],\n",
      "        [0., 1., 1., 1., 1., 1.],\n",
      "        [1., 1., 1., 1., 1., 1.],\n",
      "        [1., 0., 1., 1., 1., 1.]])\n"
     ]
    }
   ],
   "source": [
    "alpha_p=1\n",
    "beta_p=1\n",
    "alpha_pi=1\n",
    "beta_pi=0.5\n",
    "\n",
    "\n",
    "def model(data):\n",
    "    N = len(data[0,:])\n",
    "    S= len(data[:,0])\n",
    "    p=pyro.sample('p',dist.Beta(alpha_p,beta_p))\n",
    "    \n",
    "    platepi=pyro.plate('piplate',N,dim=-1)\n",
    "    plater=pyro.plate('rplate',S, dim=-2)\n",
    "    \n",
    "    with platepi:\n",
    "        pi=pyro.sample('pi',dist.Beta(alpha_pi,beta_pi))\n",
    "        \n",
    "    with plater:\n",
    "        r=pyro.sample('r',dist.Bernoulli(p))\n",
    "        \n",
    "    with platepi, plater:\n",
    "        u=pyro.sample('u',dist.Bernoulli(r*(1-pi)+(1-r)*pi),obs=data)\n",
    "    return pi,r,u\n",
    "    \n",
    "        \n",
    "        \n",
    "data=dist.Bernoulli(0.6).sample((12,6))\n",
    "\n",
    "pi,r,u=model(data)\n",
    "print(u)\n"
   ]
  },
  {
   "cell_type": "code",
   "execution_count": null,
   "id": "a48839bb",
   "metadata": {},
   "outputs": [],
   "source": []
  }
 ],
 "metadata": {
  "kernelspec": {
   "display_name": "Python 3 (ipykernel)",
   "language": "python",
   "name": "python3"
  },
  "language_info": {
   "codemirror_mode": {
    "name": "ipython",
    "version": 3
   },
   "file_extension": ".py",
   "mimetype": "text/x-python",
   "name": "python",
   "nbconvert_exporter": "python",
   "pygments_lexer": "ipython3",
   "version": "3.9.7"
  }
 },
 "nbformat": 4,
 "nbformat_minor": 5
}
