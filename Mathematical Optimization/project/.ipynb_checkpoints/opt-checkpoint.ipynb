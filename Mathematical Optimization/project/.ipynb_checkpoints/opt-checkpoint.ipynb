{
 "cells": [
  {
   "cell_type": "code",
   "execution_count": 1,
   "id": "bc082205-1fd6-4fbc-ad79-46ea8f5a9ca8",
   "metadata": {},
   "outputs": [],
   "source": [
    "import gurobipy as gp\n",
    "import numpy as np\n",
    "from gurobipy import GRB\n",
    "import time\n",
    "import matplotlib.pyplot as plt\n",
    "import math\n",
    "import networkx as nx\n",
    "from sklearn.linear_model import LinearRegression"
   ]
  },
  {
   "cell_type": "code",
   "execution_count": 23,
   "id": "ce1e6cea-44b3-4889-a39d-71dbc8ca23b1",
   "metadata": {},
   "outputs": [],
   "source": [
    "#Model has fixed size\n",
    "def model(W,H,N):\n",
    "    np.random.seed(2022)\n",
    "\n",
    "######################DATA PREPARATION######################\n",
    "    env = gp.Env(empty=True)\n",
    "    env.setParam(\"OutputFlag\",0)\n",
    "    env.start()\n",
    "\n",
    "\n",
    "    model=gp.Model(env=env)\n",
    "    FOC=100+np.random.rand()*(1000-100)\n",
    "    MOB=2000+np.random.rand()*(20000-2000)\n",
    "    OB=np.random.rand()\n",
    "    OP=np.random.rand()\n",
    "    OV=np.random.rand()\n",
    "    AP=5000+(50000-5000)*np.random.rand()\n",
    "    LP=np.random.randint(1,W)\n",
    "    LR=np.random.randint(1,W)\n",
    "    R=np.random.randint(1,W)\n",
    "    RP=np.random.rand()\n",
    "    rW=np.random.rand()\n",
    "    V=np.random.randint(1,W)\n",
    "    if H!=1:\n",
    "            CL=18000\n",
    "    else:\n",
    "            CL=model.addVar(name=\"CL\",lb=0)\n",
    "\n",
    "#Parameters taken by the data (r1)\n",
    "    \n",
    "    S=np.zeros(N, dtype=object)\n",
    "    for i in range(N-1):\n",
    "        temp=np.random.randint(0,N-i-1,1)\n",
    "        S[i]=sorted(np.random.randint(i+1,N,temp).tolist())\n",
    "    S[N-1]=[]\n",
    "    M=np.zeros(N, dtype=object)\n",
    "    for i in range(N):\n",
    "        M[i]=[0,1,2]\n",
    "    T=np.zeros([N,3],dtype=np.int64)\n",
    "    for i in range(N):\n",
    "        T[i,0]=np.random.randint(1,5,1)\n",
    "        for j in range(1,3):\n",
    "            T[i,j]=np.random.randint(T[i,0],5,1)\n",
    "        C=np.zeros([N,3],dtype=np.int64)\n",
    "    for i in range(N):\n",
    "        for j in range(3):\n",
    "            C[i][j]=np.random.randint(1,5,1)\n",
    "    MMF=np.zeros([N,3],dtype=np.int64)\n",
    "    for i in range(N):\n",
    "        for j in range(3):\n",
    "            MMF[i,j]=C[i,0]/C[i,j]\n",
    "\n",
    "    DCsum=np.sum(C[:,0])#Equation 1 \n",
    "    VOCsum=OV*DCsum# Equation 2\n",
    "    FOCsum=DCsum*W# Equation 3\n",
    "    PM=OP*(DCsum+VOCsum+FOCsum+MOB)#Equation 4\n",
    "    BC=OB*(DCsum+VOCsum+FOCsum+MOB+PM)#Equation 5\n",
    "    BP=DCsum+VOCsum+FOCsum+MOB+PM+BC#Equation 6\n",
    "    MU=BP/DCsum#Equation 7\n",
    "\n",
    "          \n",
    "    \n",
    "    #Equation from 7 to 20 are not in the model and equation from 21 to 22 are not used because of the fixed sizde\n",
    "    x = model.addVars(N,N,W+1, vtype=GRB.BINARY, name=\"x\") #equation 45\n",
    "    DC = model.addVars(N,W+1, name=\"dc\")\n",
    "    EV = model.addVars(N,math.ceil(W/R)*R+1, name=\"ev\")\n",
    "    TE = model.addVars(math.ceil(W/R)*R+LP+1, name=\"te\")\n",
    "    I = model.addVars(math.ceil(W/R)*R+1, name=\"I\")\n",
    "    P = model.addVars(math.ceil(W/R)*R+LP+1, name=\"P\")\n",
    "    K=math.ceil(W/R)\n",
    "    y = model.addVars(K+1, vtype=GRB.BINARY, name=\"y\")#equation 47\n",
    "    temp=model.addVar(vtype=GRB.BINARY, name=\"temp\")\n",
    "    Mg=model.addVar(name=\"Mg\")\n",
    "    Z=model.addVar(name=\"Z\")\n",
    "    IB = model.addVars(math.ceil(W/R)*R+LP+1, name=\"IB\")\n",
    "    B = model.addVars(math.ceil(W/R)*R+LP+1, name=\"B\")\n",
    "    IL = model.addVars(W+1, name=\"IL\") \n",
    "    alpha= model.addVars(W+1, vtype=GRB.BINARY, name=\"alpha\") #equation 48\n",
    "\n",
    "    model.addConstrs(gp.quicksum(x[i,j,k] for j in M[i] for k in range(1,W+1))==1 for i in range(N))#equation 23\n",
    "    model.addConstrs(gp.quicksum((k+T[i,j])*x[i,j,k] for j in M[i] for k in range(1,W+1))<gp.quicksum(k*x[q,j,k] for j in M[q] for k in range(1,W+1)) for q in S[i] for i in range(N)) #equation 24\n",
    "    model.addConstrs(gp.quicksum((k+T[i,j])*x[i,j,k] for j in M[i] for k in range(1,W+1))<=W for i in range(N) if len(S[i])==0) #equation 25\n",
    "    model.addConstrs(DC[i,k]==gp.quicksum(C[i,j]/T[i,j]*x[i,j,t] for t in range(max(1,k-T[i,j]),k+1) for j in M[i]) for i in range(N) for k in range(1,W+1)) #equation 26\n",
    "    model.addConstrs(TE[k]==FOC+(1+OV)*gp.quicksum(DC[i,k] for i in range(N)) for k in range(1,W+1)) #equation 27\n",
    "    model.addConstrs(TE[k]==0 for k in range(W+1,math.ceil(W/R)*R+LP+1)) #equation 27\n",
    "\n",
    "    model.addConstr(TE[0]==MOB+BC)\n",
    "    model.addConstrs(EV[i,k]==gp.quicksum(MMF[i,j]*DC[i,k] for j in M[i] for t in range(max(1,k-T[i,j]),k+1)) for i in range(N) for k in range(1,W+1)) #equation 28\n",
    "    model.addConstrs(EV[i,k]==0 for i in range(N) for k in range(W+1,math.ceil(W/R)*R+1)) #equation 28\n",
    "    templist=[k for k in range(R,math.ceil(W/R)*R,R)]\n",
    "    templist.append(math.ceil(W/R)*R)\n",
    "    model.addConstrs(I[k]==MU*gp.quicksum(EV[i,t] for t in range(k-R+1,k+1) for i in range(N)) for k in templist) #equation 29\n",
    "    model.addConstrs(I[k]==0 for k in set(range(math.ceil(W/R)*R))-set(templist))\n",
    "    templist=[k for k in range(R+LP,math.ceil(W/R)*R,R)]\n",
    "    templist.append(math.ceil(W/R)*R+LP)\n",
    "    model.addConstrs(P[k]==RP*I[k-LP]-gp.quicksum(AP*y[n]/n for n in range(1,K+1)) for k in templist) #equation 30\n",
    "    model.addConstrs(P[k]==0 for k in set(range(math.ceil(W/R)*R+LP+1))-set(templist)) \n",
    "    model.addConstr(R*Z>=W) #equation 31\n",
    "    model.addConstr(R*Z<=W+R-1) #equation 32\n",
    "    model.addConstr(gp.quicksum(n*y[n] for n in range(K+1))==Z) #equation 33-34\n",
    "    model.addConstr(B[0]==AP-TE[0]) #equation 35\n",
    "    model.addConstrs(B[k]==B[k-1]-TE[k]+P[k-1]-IB[k] for k in range(1,math.ceil(W/R)*R+LP+1)) #equation 36\n",
    "    templist=[k for k in range(V,W,V)]\n",
    "    templist.append(W)\n",
    "    model.addConstrs(IB[k]==rW*gp.quicksum(IL[t] for t in range(max(1,k-V+1),k+1)) for k in templist) #equation 37\n",
    "    model.addConstrs(IB[k]==0 for k in range(W+1,math.ceil(W/R)*R+1)) #equation 37\n",
    "    model.addConstrs(B[k-1]-TE[k-1]<=(1-alpha[k])*Mg for k in range(1,W+1))#equation 38\n",
    "    model.addConstrs(B[k-1]-TE[k-1]>=-alpha[k]*Mg for k in range(1,W+1))#equation 39\n",
    "    model.addConstrs(IL[k]>=0  for k in range(1,W+1))\n",
    "    model.addConstrs(IL[k]>=-(B[k-1]-TE[k])+(alpha[k]-1)*Mg for k in range(1,W+1)) #equation 41\n",
    "    model.addConstrs(IL[k]<=-(B[k-1]-TE[k])+(1-alpha[k])*Mg for k in range(1,W+1)) #equation 42\n",
    "    model.addConstrs(IL[k]<=alpha[k]*Mg  for k in range(1,W+1))#equation 43\n",
    "    model.addConstrs(B[k]<=CL for k in range(1,W+1))\n",
    "    model.addConstr(Z>=0) \n",
    "    model.addConstr(Z<=Mg)\n",
    " \n",
    "    if H==0:\n",
    "        model.optimize()\n",
    "        return model.SolCount\n",
    "\n",
    "    if H==1:\n",
    "        model.setObjective(CL,GRB.MINIMIZE)   \n",
    "        model.optimize()\n",
    "        if model.SolCount>0:\n",
    "            return CL.X\n",
    "        else:\n",
    "            return -1\n",
    "    \n",
    "    if H==2:\n",
    "        model.setObjective(gp.quicksum(TE[k] for k in range(1,W+1)), GRB.MINIMIZE)\n",
    "        model.optimize()\n",
    "        \n",
    "    if H==3:\n",
    "        model.setObjective(B[W], GRB.MAXIMIZE)\n",
    "        model.optimize()\n",
    "        return B[W+LP].X\n",
    "\n",
    "\n",
    "            \n",
    "    "
   ]
  },
  {
   "cell_type": "code",
   "execution_count": 24,
   "id": "9841ec06-da8c-4aee-918f-6e5f5300fd99",
   "metadata": {},
   "outputs": [],
   "source": [
    "def cpm(N):\n",
    "    np.random.seed(2022)\n",
    "    S=np.zeros(N, dtype=object)\n",
    "    for i in range(N-1):\n",
    "        temp=np.random.randint(0,N-i-1,1)\n",
    "        S[i]=sorted(np.random.randint(i+1,N,temp).tolist())\n",
    "    S[N-1]=[]\n",
    "    T=np.zeros([N,3],dtype=np.int64)\n",
    "    for i in range(N):\n",
    "        T[i,0]=np.random.randint(1,5,1)\n",
    "        for j in range(1,3):\n",
    "            T[i,j]=np.random.randint(T[i,0],5,1)\n",
    "    \n",
    "    temp=[]\n",
    "    for i in range(N-1):\n",
    "        for k in S[i]:\n",
    "            temp.append((i,k,{\"cost\":T[i,0]}))\n",
    "    DG = nx.DiGraph(temp)\n",
    "    temp=nx.dag_longest_path(DG)\n",
    "    s=0\n",
    "    for i in temp:\n",
    "        s=s+T[i][0]\n",
    "    return int(s)\n"
   ]
  },
  {
   "cell_type": "code",
   "execution_count": 25,
   "id": "27b1a804-372e-4fc1-b185-8583b1a051ca",
   "metadata": {},
   "outputs": [],
   "source": [
    "def algorithm(choice,N,J=0):\n",
    "    flag=0\n",
    "    W=cpm(N)\n",
    "    flag=model(W,0,N)\n",
    "    if choice!=1:\n",
    "        while flag==0:\n",
    "            W=W+1\n",
    "            flag=model(W,0,N)\n",
    "        return model(W,choice,N)\n",
    "    if choice==1:\n",
    "        while flag==-1:\n",
    "            W=W+1\n",
    "            flag=model(W,choice,N)\n",
    "        tempold=model(W,choice,N)\n",
    "        for k in range(W+1,W+J+1):\n",
    "            temp=model(k,choice,N)\n",
    "            if temp<tempold and temp>0:\n",
    "                tempold=temp\n",
    "        return tempold\n",
    "            "
   ]
  },
  {
   "cell_type": "code",
   "execution_count": null,
   "id": "8bb7beba-7b0d-4e74-842e-d4d286cf76af",
   "metadata": {},
   "outputs": [],
   "source": []
  },
  {
   "cell_type": "markdown",
   "id": "0a8c4cd0-906f-40ea-b84f-0727e59b0e55",
   "metadata": {},
   "source": [
    "# Scalability analysis"
   ]
  },
  {
   "cell_type": "code",
   "execution_count": 26,
   "id": "841cc2b4-90f8-47f7-8c88-0094579d1df3",
   "metadata": {},
   "outputs": [],
   "source": [
    "times=np.zeros([30,4])\n",
    "N=4\n",
    "for i in range(30):\n",
    "    for j in range(4):\n",
    "        timeold=time.time()\n",
    "        temp=algorithm(j,N+i)\n",
    "        times[i][j]=time.time()-timeold"
   ]
  },
  {
   "cell_type": "markdown",
   "id": "6e64703d-b0a6-45e4-a58a-9f68e0676b05",
   "metadata": {},
   "source": [
    "## Model 0 : W minimization"
   ]
  },
  {
   "cell_type": "code",
   "execution_count": 27,
   "id": "9ec98ae8-13a7-4edb-a61d-8f189c280b11",
   "metadata": {},
   "outputs": [
    {
     "name": "stdout",
     "output_type": "stream",
     "text": [
      "Linear score: 0.9139855612920367\n",
      "Quadratic score: 0.9248701871580075\n"
     ]
    }
   ],
   "source": [
    "lin = LinearRegression().fit(np.array([i for i in range(4,34)]).reshape(-1,1), times[0:30,0])\n",
    "print(\"Linear score:\",lin.score(np.array([i for i in range(4,34)]).reshape(-1,1),times[0:30,0]))\n",
    "quad = LinearRegression().fit(np.array([[i for i in range(4,34)],[i**2 for i in range(4,34)]]).T, times[0:34,0])\n",
    "print(\"Quadratic score:\", quad.score(np.array([[i for i in range(4,34)],[i**2 for i in range(4,34)]]).T,times[0:30,0]))"
   ]
  },
  {
   "cell_type": "markdown",
   "id": "acb44da4-095a-488d-a979-ce1791c18d21",
   "metadata": {},
   "source": [
    "Quadratic model is similar to linear model, so true model is approximately linear"
   ]
  },
  {
   "cell_type": "code",
   "execution_count": 28,
   "id": "0489c7bf-1d7c-4002-b940-841dce06df5f",
   "metadata": {},
   "outputs": [
    {
     "data": {
      "image/png": "[encoded data removed]",
      "text/plain": [
       "<Figure size 432x288 with 1 Axes>"
      ]
     },
     "metadata": {
      "needs_background": "light"
     },
     "output_type": "display_data"
    }
   ],
   "source": [
    "plt.plot([i for i in range(4,34)],times[0:30,0])\n",
    "plt.plot([i for i in range(4,34)],np.array([i for i in range(4,34)])*lin.coef_+lin.intercept_)\n",
    "plt.suptitle('Model 0', fontsize=20)\n",
    "plt.xlabel('Data size', fontsize=18)\n",
    "plt.ylabel('Time', fontsize=16)\n",
    "plt.savefig(\"model0.png\")"
   ]
  },
  {
   "cell_type": "markdown",
   "id": "30db2e9a-d643-4c2e-afd9-93778134f349",
   "metadata": {},
   "source": [
    "## Model 1: CL minimization"
   ]
  },
  {
   "cell_type": "code",
   "execution_count": 29,
   "id": "213d95e9-ba5f-4c29-8851-77a5c7717023",
   "metadata": {},
   "outputs": [
    {
     "name": "stdout",
     "output_type": "stream",
     "text": [
      "Linear score: 0.854669876439437\n",
      "Quadratic score: 0.8554582405117663\n"
     ]
    }
   ],
   "source": [
    "lin = LinearRegression().fit(np.array([i for i in range(4,34)]).reshape(-1,1), times[0:30,1])\n",
    "print(\"Linear score:\",lin.score(np.array([i for i in range(4,34)]).reshape(-1,1),times[0:30,1]))\n",
    "quad = LinearRegression().fit(np.array([[i for i in range(4,34)],[i**2 for i in range(4,34)]]).T, times[0:30,1])\n",
    "print(\"Quadratic score:\", quad.score(np.array([[i for i in range(4,34)],[i**2 for i in range(4,34)]]).T,times[0:30,1]))"
   ]
  },
  {
   "cell_type": "markdown",
   "id": "a31a6e29-e9cc-49d2-b988-3ddab499d3c1",
   "metadata": {},
   "source": [
    "Quadratic model is similar to linear model, so true model is approximately linear"
   ]
  },
  {
   "cell_type": "code",
   "execution_count": 30,
   "id": "a21200f2-ead9-4fc1-8e6f-2bc2cd162bd6",
   "metadata": {},
   "outputs": [
    {
     "data": {
      "image/png": "[encoded data removed]",
      "text/plain": [
       "<Figure size 432x288 with 1 Axes>"
      ]
     },
     "metadata": {
      "needs_background": "light"
     },
     "output_type": "display_data"
    }
   ],
   "source": [
    "plt.plot([i for i in range(4,34)],times[0:30,1])\n",
    "plt.plot([i for i in range(4,34)],np.array([i for i in range(4,34)])*lin.coef_+lin.intercept_)\n",
    "plt.suptitle('Model 1', fontsize=20)\n",
    "plt.xlabel('Data size', fontsize=18)\n",
    "plt.ylabel('Time', fontsize=16)\n",
    "plt.savefig(\"model1.png\")"
   ]
  },
  {
   "cell_type": "markdown",
   "id": "e57cc037-db31-4a01-abd2-bb43c52a159f",
   "metadata": {},
   "source": [
    "## Model 2: TE minimization"
   ]
  },
  {
   "cell_type": "code",
   "execution_count": 31,
   "id": "fa5132ee-5dfa-4f24-9c93-5941cedf8431",
   "metadata": {},
   "outputs": [
    {
     "name": "stdout",
     "output_type": "stream",
     "text": [
      "Linear score: 0.8963074202821821\n",
      "Quadratic score: 0.8983928259913208\n"
     ]
    }
   ],
   "source": [
    "lin = LinearRegression().fit(np.array([i for i in range(4,34)]).reshape(-1,1), times[0:30,2])\n",
    "print(\"Linear score:\",lin.score(np.array([i for i in range(4,34)]).reshape(-1,1),times[0:30,2]))\n",
    "quad = LinearRegression().fit(np.array([[i for i in range(4,34)],[i**2 for i in range(4,34)]]).T, times[0:30,2])\n",
    "print(\"Quadratic score:\", quad.score(np.array([[i for i in range(4,34)],[i**2 for i in range(4,34)]]).T,times[0:30,2]))\n"
   ]
  },
  {
   "cell_type": "markdown",
   "id": "a03b3dca-934a-42a9-99e3-364f5dd23a1f",
   "metadata": {},
   "source": [
    "Quadratic model is similar to linear model, so true model is approximately linear"
   ]
  },
  {
   "cell_type": "code",
   "execution_count": 32,
   "id": "1e78e582-07cd-4067-a525-eb418b4c95cf",
   "metadata": {},
   "outputs": [
    {
     "data": {
      "image/png": "[encoded data removed]",
      "text/plain": [
       "<Figure size 432x288 with 1 Axes>"
      ]
     },
     "metadata": {
      "needs_background": "light"
     },
     "output_type": "display_data"
    }
   ],
   "source": [
    "plt.plot([i for i in range(4,34)],times[0:30,2])\n",
    "plt.plot([i for i in range(4,34)],np.array([i for i in range(4,34)])*lin.coef_+lin.intercept_)\n",
    "plt.suptitle('Model 2', fontsize=20)\n",
    "plt.xlabel('Data size', fontsize=18)\n",
    "plt.ylabel('Time', fontsize=16)\n",
    "plt.savefig(\"model2.png\")"
   ]
  },
  {
   "cell_type": "markdown",
   "id": "e0ba2e8a-ed5b-456e-9da1-b49ce74ffb52",
   "metadata": {},
   "source": [
    "## Model 3: B maximization"
   ]
  },
  {
   "cell_type": "code",
   "execution_count": 33,
   "id": "5dd515d6-1d92-423c-8ee2-b9fedb584fea",
   "metadata": {},
   "outputs": [
    {
     "name": "stdout",
     "output_type": "stream",
     "text": [
      "Linear score: 0.9056181068916513\n",
      "Quadratic score: 0.9102972379414358\n"
     ]
    }
   ],
   "source": [
    "lin = LinearRegression().fit(np.array([i for i in range(4,34)]).reshape(-1,1), times[0:30,3])\n",
    "print(\"Linear score:\",lin.score(np.array([i for i in range(4,34)]).reshape(-1,1),times[0:30,3]))\n",
    "quad = LinearRegression().fit(np.array([[i for i in range(4,34)],[i**2 for i in range(4,34)]]).T, times[0:30,3])\n",
    "print(\"Quadratic score:\", quad.score(np.array([[i for i in range(4,34)],[i**2 for i in range(4,34)]]).T,times[0:30,3]))\n"
   ]
  },
  {
   "cell_type": "markdown",
   "id": "046c1ff4-4107-49ab-b335-a6cd43351362",
   "metadata": {},
   "source": [
    "Quadratic model is similar to linear model, so true model is approximately linear"
   ]
  },
  {
   "cell_type": "code",
   "execution_count": 34,
   "id": "d9d21df3-e7c5-4369-aa4c-b7a3c27d84aa",
   "metadata": {},
   "outputs": [
    {
     "data": {
      "image/png": "[encoded data removed]",
      "text/plain": [
       "<Figure size 432x288 with 1 Axes>"
      ]
     },
     "metadata": {
      "needs_background": "light"
     },
     "output_type": "display_data"
    }
   ],
   "source": [
    "plt.plot([i for i in range(4,34)],times[0:30,2])\n",
    "plt.plot([i for i in range(4,34)],np.array([i for i in range(4,34)])*lin.coef_+lin.intercept_)\n",
    "plt.suptitle('Model 3', fontsize=20)\n",
    "plt.xlabel('Data size', fontsize=18)\n",
    "plt.ylabel('Time', fontsize=16)\n",
    "plt.savefig(\"model3.png\")"
   ]
  },
  {
   "cell_type": "code",
   "execution_count": null,
   "id": "935e35f2-cd50-4ee7-8115-3423079cb07a",
   "metadata": {},
   "outputs": [],
   "source": []
  },
  {
   "cell_type": "code",
   "execution_count": null,
   "id": "7cab79a6-ad30-4049-8d6f-d01ccbb54b0b",
   "metadata": {},
   "outputs": [],
   "source": []
  },
  {
   "cell_type": "code",
   "execution_count": null,
   "id": "7c3b2c4b-b543-4763-891e-cdd0d4a2aa1f",
   "metadata": {},
   "outputs": [],
   "source": []
  },
  {
   "cell_type": "code",
   "execution_count": null,
   "id": "c94b481d-89c2-4411-a9fc-5de010f5f9c5",
   "metadata": {},
   "outputs": [],
   "source": []
  }
 ],
 "metadata": {
  "kernelspec": {
   "display_name": "Python 3 (ipykernel)",
   "language": "python",
   "name": "python3"
  },
  "language_info": {
   "codemirror_mode": {
    "name": "ipython",
    "version": 3
   },
   "file_extension": ".py",
   "mimetype": "text/x-python",
   "name": "python",
   "nbconvert_exporter": "python",
   "pygments_lexer": "ipython3",
   "version": "3.10.4"
  }
 },
 "nbformat": 4,
 "nbformat_minor": 5
}
