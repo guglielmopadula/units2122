{
  "nbformat": 4,
  "nbformat_minor": 0,
  "metadata": {
    "colab": {
      "name": "Data.ipynb",
      "provenance": []
    },
    "kernelspec": {
      "name": "ir",
      "display_name": "R"
    },
    "language_info": {
      "name": "R"
    }
  },
  "cells": [
    {
      "cell_type": "code",
      "source": [
        "data<-read.csv(\"https://raw.githubusercontent.com/pcm-dpc/COVID-19/master/dati-regioni/dpc-covid19-ita-regioni.csv\")\n",
        "data<-data[data$denominazione_regione==\"Toscana\",]\n",
        "data<-data[,colSums(is.na(data))==0]\n",
        "data<-data[,-c(2,3,4,5,6)]\n",
        "data<-data[,-c(13:17)]\n",
        "data<-data[,-1]\n",
        "data<-data[,-c(1,4,5,9:11)]\n",
        "data<-data[221:358,]\n",
        "color='miao'\n",
        "color[1:32]='yellow' \n",
        "color[33:53]='red' \n",
        "color[54:81]='orange'\n",
        "color[82:95]='yellow'\n",
        "color[96:102]='orange' \n",
        "color[103:109]='yellow'\n",
        "color[110:138]='orange'\n",
        "color=as.factor(color)\n",
        "data$colori=color\n",
        "datatrain=data[1:124,]\n",
        "datatest=data[125:138,]\n",
        "\n",
        "\n"
      ],
      "metadata": {
        "id": "4YwfBNG_BcYX"
      },
      "execution_count": 4,
      "outputs": []
    },
    {
      "cell_type": "code",
      "execution_count": null,
      "metadata": {
        "id": "wpoNzdefBRif"
      },
      "outputs": [],
      "source": [
        ""
      ]
    }
  ]
}